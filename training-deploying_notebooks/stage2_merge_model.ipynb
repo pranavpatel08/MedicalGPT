{
 "cells": [
  {
   "cell_type": "code",
   "execution_count": 14,
   "id": "b1caa505-3047-4c73-a317-5a7faf7add60",
   "metadata": {},
   "outputs": [],
   "source": [
    "import os"
   ]
  },
  {
   "cell_type": "code",
   "execution_count": 4,
   "id": "fb218312-b409-491a-9ed1-dc3764d42028",
   "metadata": {},
   "outputs": [],
   "source": [
    "from transformers import AutoModelForCausalLM, AutoTokenizer, AutoConfig\n",
    "from peft import PeftModel, PeftConfig\n",
    "import torch"
   ]
  },
  {
   "cell_type": "code",
   "execution_count": null,
   "id": "1a47e22c-e485-426a-ba94-1c797311586e",
   "metadata": {},
   "outputs": [],
   "source": [
    "base_model = \"mistralai/Mistral-Nemo-Instruct-2407\"\n",
    "adapter_model = \"shikhac30/mistral_nemo_12b_medical_ft_v1\"\n",
    "hf_token = \"replace_hf_token\""
   ]
  },
  {
   "cell_type": "code",
   "execution_count": 18,
   "id": "ade808b8-62f9-48ae-b20f-68b6f55577c6",
   "metadata": {},
   "outputs": [],
   "source": [
    "final_model = \"mistral_nemo_12b_medical_model\"  \n"
   ]
  },
  {
   "cell_type": "code",
   "execution_count": 9,
   "id": "a0e1a844-9d9e-4f93-ac8b-203e6a04a761",
   "metadata": {},
   "outputs": [
    {
     "data": {
      "application/vnd.jupyter.widget-view+json": {
       "model_id": "f590ed4c63dd47a6811303e1fa4db7a1",
       "version_major": 2,
       "version_minor": 0
      },
      "text/plain": [
       "Loading checkpoint shards:   0%|          | 0/5 [00:00<?, ?it/s]"
      ]
     },
     "metadata": {},
     "output_type": "display_data"
    },
    {
     "data": {
      "application/vnd.jupyter.widget-view+json": {
       "model_id": "b3ab092cce2b43659f45cb00a2195883",
       "version_major": 2,
       "version_minor": 0
      },
      "text/plain": [
       "adapter_config.json:   0%|          | 0.00/837 [00:00<?, ?B/s]"
      ]
     },
     "metadata": {},
     "output_type": "display_data"
    },
    {
     "data": {
      "application/vnd.jupyter.widget-view+json": {
       "model_id": "c65a0a3ac11c47d9855b2a1a817da063",
       "version_major": 2,
       "version_minor": 0
      },
      "text/plain": [
       "adapter_model.safetensors:   0%|          | 0.00/514M [00:00<?, ?B/s]"
      ]
     },
     "metadata": {},
     "output_type": "display_data"
    }
   ],
   "source": [
    "\n",
    "\n",
    "# 1. Load tokenizer and config from base model\n",
    "tokenizer = AutoTokenizer.from_pretrained(base_model, trust_remote_code=True)\n",
    "config = AutoConfig.from_pretrained(base_model)\n",
    "\n",
    "# 2. Load base model in 16-bit\n",
    "base = AutoModelForCausalLM.from_pretrained(\n",
    "    base_model,\n",
    "    torch_dtype=torch.bfloat16,\n",
    "    device_map=\"auto\",\n",
    "    trust_remote_code=True\n",
    ")\n",
    "\n",
    "# 3. Load adapter and apply\n",
    "model = PeftModel.from_pretrained(base, adapter_model)\n",
    "model = model.merge_and_unload()  # merge LoRA into base weights\n",
    "\n"
   ]
  },
  {
   "cell_type": "code",
   "execution_count": 17,
   "id": "0e057fb2-6bee-4011-a7c6-9e4f24b75bf9",
   "metadata": {},
   "outputs": [],
   "source": [
    "\n",
    "local_path = \"./merged_model\"\n",
    "os.makedirs(local_path, exist_ok=True)\n",
    "\n",
    "model.save_pretrained(local_path, safe_serialization=True)\n",
    "tokenizer.save_pretrained(local_path)\n",
    "\n"
   ]
  },
  {
   "cell_type": "code",
   "execution_count": 20,
   "id": "9ee4c12a-0a84-4384-922e-c28a74f93c66",
   "metadata": {},
   "outputs": [
    {
     "name": "stdout",
     "output_type": "stream",
     "text": [
      "CPU times: user 25 μs, sys: 11 μs, total: 36 μs\n",
      "Wall time: 69.9 μs\n"
     ]
    },
    {
     "data": {
      "application/vnd.jupyter.widget-view+json": {
       "model_id": "9dcb384f7b0a490889a31ce98f4e70ca",
       "version_major": 2,
       "version_minor": 0
      },
      "text/plain": [
       "model-00002-of-00005.safetensors:   0%|          | 0.00/4.91G [00:00<?, ?B/s]"
      ]
     },
     "metadata": {},
     "output_type": "display_data"
    },
    {
     "data": {
      "application/vnd.jupyter.widget-view+json": {
       "model_id": "61b862f2f6b94ed6aab7b9d3f16ee25a",
       "version_major": 2,
       "version_minor": 0
      },
      "text/plain": [
       "model-00003-of-00005.safetensors:   0%|          | 0.00/4.91G [00:00<?, ?B/s]"
      ]
     },
     "metadata": {},
     "output_type": "display_data"
    },
    {
     "data": {
      "application/vnd.jupyter.widget-view+json": {
       "model_id": "5c85d18984b249a99e34d7937fed184d",
       "version_major": 2,
       "version_minor": 0
      },
      "text/plain": [
       "model-00001-of-00005.safetensors:   0%|          | 0.00/4.87G [00:00<?, ?B/s]"
      ]
     },
     "metadata": {},
     "output_type": "display_data"
    },
    {
     "data": {
      "application/vnd.jupyter.widget-view+json": {
       "model_id": "77dd42124b9849c68c1533b3bb7ccc93",
       "version_major": 2,
       "version_minor": 0
      },
      "text/plain": [
       "Upload 5 LFS files:   0%|          | 0/5 [00:00<?, ?it/s]"
      ]
     },
     "metadata": {},
     "output_type": "display_data"
    },
    {
     "data": {
      "application/vnd.jupyter.widget-view+json": {
       "model_id": "33e89ea2beb746c2ac881fa28b166544",
       "version_major": 2,
       "version_minor": 0
      },
      "text/plain": [
       "model-00004-of-00005.safetensors:   0%|          | 0.00/4.91G [00:00<?, ?B/s]"
      ]
     },
     "metadata": {},
     "output_type": "display_data"
    },
    {
     "data": {
      "application/vnd.jupyter.widget-view+json": {
       "model_id": "6dda348e38aa4d2ba1691ecc92fa968a",
       "version_major": 2,
       "version_minor": 0
      },
      "text/plain": [
       "model-00005-of-00005.safetensors:   0%|          | 0.00/4.91G [00:00<?, ?B/s]"
      ]
     },
     "metadata": {},
     "output_type": "display_data"
    },
    {
     "data": {
      "application/vnd.jupyter.widget-view+json": {
       "model_id": "09ccfd92e45b4fe595b3fab3d99e36b9",
       "version_major": 2,
       "version_minor": 0
      },
      "text/plain": [
       "README.md:   0%|          | 0.00/5.17k [00:00<?, ?B/s]"
      ]
     },
     "metadata": {},
     "output_type": "display_data"
    },
    {
     "data": {
      "application/vnd.jupyter.widget-view+json": {
       "model_id": "c10d85249ef647a2a3f054ff5a698f46",
       "version_major": 2,
       "version_minor": 0
      },
      "text/plain": [
       "tokenizer.json:   0%|          | 0.00/17.1M [00:00<?, ?B/s]"
      ]
     },
     "metadata": {},
     "output_type": "display_data"
    },
    {
     "data": {
      "text/plain": [
       "CommitInfo(commit_url='https://huggingface.co/shikhac30/mistral_nemo_12b_medical_model/commit/792d6264f158e18df1140ff439750d71b0baaa4b', commit_message='Upload tokenizer', commit_description='', oid='792d6264f158e18df1140ff439750d71b0baaa4b', pr_url=None, repo_url=RepoUrl('https://huggingface.co/shikhac30/mistral_nemo_12b_medical_model', endpoint='https://huggingface.co', repo_type='model', repo_id='shikhac30/mistral_nemo_12b_medical_model'), pr_revision=None, pr_num=None)"
      ]
     },
     "execution_count": 20,
     "metadata": {},
     "output_type": "execute_result"
    }
   ],
   "source": [
    "%time\n",
    "# Push to HF\n",
    "model.push_to_hub(final_model, token=hf_token)\n",
    "tokenizer.push_to_hub(final_model, token=hf_token)"
   ]
  }
 ],
 "metadata": {
  "kernelspec": {
   "display_name": "Python 3 (ipykernel)",
   "language": "python",
   "name": "python3"
  },
  "language_info": {
   "codemirror_mode": {
    "name": "ipython",
    "version": 3
   },
   "file_extension": ".py",
   "mimetype": "text/x-python",
   "name": "python",
   "nbconvert_exporter": "python",
   "pygments_lexer": "ipython3",
   "version": "3.13.1"
  }
 },
 "nbformat": 4,
 "nbformat_minor": 5
}
