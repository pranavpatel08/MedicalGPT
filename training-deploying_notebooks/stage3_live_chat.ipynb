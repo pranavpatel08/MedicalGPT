{
 "cells": [
  {
   "cell_type": "code",
   "execution_count": 9,
   "id": "b1caa505-3047-4c73-a317-5a7faf7add60",
   "metadata": {},
   "outputs": [],
   "source": [
    "import os\n",
    "from transformers import AutoTokenizer, AutoModelForCausalLM, pipeline\n",
    "from rich import print\n",
    "from rich.panel import Panel\n",
    "from rich.console import Console\n",
    "from rich.markdown import Markdown\n",
    "import torch"
   ]
  },
  {
   "cell_type": "code",
   "execution_count": null,
   "id": "23b47cf5-e43d-4fa1-9122-5ca48093d82c",
   "metadata": {},
   "outputs": [],
   "source": [
    "\n",
    "base_model = \"mistralai/Mistral-Nemo-Instruct-2407\"\n",
    "model_name = \"shikhac30/mistral_nemo_12b_medical_model\"  \n"
   ]
  },
  {
   "cell_type": "code",
   "execution_count": 6,
   "id": "7353befd-61c3-4a67-9f10-087244551a0b",
   "metadata": {},
   "outputs": [
    {
     "data": {
      "application/vnd.jupyter.widget-view+json": {
       "model_id": "3f456274038648449210926b32e10d46",
       "version_major": 2,
       "version_minor": 0
      },
      "text/plain": [
       "Loading checkpoint shards:   0%|          | 0/5 [00:00<?, ?it/s]"
      ]
     },
     "metadata": {},
     "output_type": "display_data"
    },
    {
     "name": "stderr",
     "output_type": "stream",
     "text": [
      "Device set to use cuda:0\n"
     ]
    }
   ],
   "source": [
    "# Load the model and tokenizer from HF or local path\n",
    "tokenizer = AutoTokenizer.from_pretrained(model_name, trust_remote_code=True)\n",
    "model = AutoModelForCausalLM.from_pretrained(\n",
    "    model_name,\n",
    "    torch_dtype=torch.bfloat16,\n",
    "    device_map=\"auto\",\n",
    "    trust_remote_code=True\n",
    ")\n",
    "\n",
    "# Build the pipeline\n",
    "pipe = pipeline(\"text-generation\", model=model, tokenizer=tokenizer)\n"
   ]
  },
  {
   "cell_type": "code",
   "execution_count": null,
   "id": "fb218312-b409-491a-9ed1-dc3764d42028",
   "metadata": {},
   "outputs": [
    {
     "name": "stderr",
     "output_type": "stream",
     "text": [
      "Setting `pad_token_id` to `eos_token_id`:2 for open-end generation.\n"
     ]
    }
   ],
   "source": [
    "    \n",
    "\n",
    "# Input prompt\n",
    "user_input = \"\"\"Patient presents with acute onset of dyspnea and orthopnea;\n",
    "CXR reveals bilateral perihilar infiltrates suggestive of cardiogenic pulmonary edema.\n",
    "BNP elevated, echocardiogram pending to evaluate for systolic dysfunction.\"\"\"\n",
    "\n",
    "formatted_input = f\"<s>[INST] {user_input.strip()} [/INST]\"\n",
    "\n",
    "result = pipe(formatted_input, max_new_tokens=128, do_sample=True, temperature=0.7)\n",
    "\n",
    "output_text = result[0][\"generated_text\"].replace(formatted_input, \"\").strip()"
   ]
  },
  {
   "cell_type": "code",
   "execution_count": 10,
   "id": "1a47e22c-e485-426a-ba94-1c797311586e",
   "metadata": {},
   "outputs": [
    {
     "data": {
      "text/html": [
       "<pre style=\"white-space:pre;overflow-x:auto;line-height:normal;font-family:Menlo,'DejaVu Sans Mono',consolas,'Courier New',monospace\"><span style=\"color: #000080; text-decoration-color: #000080\">╭───────────────────────────────────── </span><span style=\"color: #000080; text-decoration-color: #000080; font-weight: bold\">Input Prompt</span><span style=\"color: #000080; text-decoration-color: #000080\"> ─────────────────────────────────────╮</span>\n",
       "<span style=\"color: #000080; text-decoration-color: #000080\">│</span> Patient presents with acute onset of dyspnea and orthopnea;                            <span style=\"color: #000080; text-decoration-color: #000080\">│</span>\n",
       "<span style=\"color: #000080; text-decoration-color: #000080\">│</span> CXR reveals bilateral perihilar infiltrates suggestive of cardiogenic pulmonary edema. <span style=\"color: #000080; text-decoration-color: #000080\">│</span>\n",
       "<span style=\"color: #000080; text-decoration-color: #000080\">│</span> BNP elevated, echocardiogram pending to evaluate for systolic dysfunction.             <span style=\"color: #000080; text-decoration-color: #000080\">│</span>\n",
       "<span style=\"color: #000080; text-decoration-color: #000080\">╰────────────────────────────────────────────────────────────────────────────────────────╯</span>\n",
       "</pre>\n"
      ],
      "text/plain": [
       "\u001b[34m╭─\u001b[0m\u001b[34m────────────────────────────────────\u001b[0m\u001b[34m \u001b[0m\u001b[1;34mInput Prompt\u001b[0m\u001b[34m \u001b[0m\u001b[34m────────────────────────────────────\u001b[0m\u001b[34m─╮\u001b[0m\n",
       "\u001b[34m│\u001b[0m Patient presents with acute onset of dyspnea and orthopnea;                            \u001b[34m│\u001b[0m\n",
       "\u001b[34m│\u001b[0m CXR reveals bilateral perihilar infiltrates suggestive of cardiogenic pulmonary edema. \u001b[34m│\u001b[0m\n",
       "\u001b[34m│\u001b[0m BNP elevated, echocardiogram pending to evaluate for systolic dysfunction.             \u001b[34m│\u001b[0m\n",
       "\u001b[34m╰────────────────────────────────────────────────────────────────────────────────────────╯\u001b[0m\n"
      ]
     },
     "metadata": {},
     "output_type": "display_data"
    },
    {
     "data": {
      "text/html": [
       "<pre style=\"white-space:pre;overflow-x:auto;line-height:normal;font-family:Menlo,'DejaVu Sans Mono',consolas,'Courier New',monospace\"><span style=\"color: #800080; text-decoration-color: #800080\">╭───────────────────────────────────────────────── </span><span style=\"color: #800080; text-decoration-color: #800080; font-weight: bold\">Model Output</span><span style=\"color: #800080; text-decoration-color: #800080\"> ──────────────────────────────────────────────────╮</span>\n",
       "<span style=\"color: #800080; text-decoration-color: #800080\">│</span> She has suddenly started having difficulty breathing and feels short of breath when lying down. Tests show      <span style=\"color: #800080; text-decoration-color: #800080\">│</span>\n",
       "<span style=\"color: #800080; text-decoration-color: #800080\">│</span> inflammation in both lungs and a high level of a certain blood marker. They're waiting for more tests to check  <span style=\"color: #800080; text-decoration-color: #800080\">│</span>\n",
       "<span style=\"color: #800080; text-decoration-color: #800080\">│</span> her heart function.                                                                                             <span style=\"color: #800080; text-decoration-color: #800080\">│</span>\n",
       "<span style=\"color: #800080; text-decoration-color: #800080\">╰─────────────────────────────────────────────────────────────────────────────────────────────────────────────────╯</span>\n",
       "</pre>\n"
      ],
      "text/plain": [
       "\u001b[35m╭─\u001b[0m\u001b[35m────────────────────────────────────────────────\u001b[0m\u001b[35m \u001b[0m\u001b[1;35mModel Output\u001b[0m\u001b[35m \u001b[0m\u001b[35m─────────────────────────────────────────────────\u001b[0m\u001b[35m─╮\u001b[0m\n",
       "\u001b[35m│\u001b[0m She has suddenly started having difficulty breathing and feels short of breath when lying down. Tests show      \u001b[35m│\u001b[0m\n",
       "\u001b[35m│\u001b[0m inflammation in both lungs and a high level of a certain blood marker. They're waiting for more tests to check  \u001b[35m│\u001b[0m\n",
       "\u001b[35m│\u001b[0m her heart function.                                                                                             \u001b[35m│\u001b[0m\n",
       "\u001b[35m╰─────────────────────────────────────────────────────────────────────────────────────────────────────────────────╯\u001b[0m\n"
      ]
     },
     "metadata": {},
     "output_type": "display_data"
    }
   ],
   "source": [
    "console = Console()\n",
    "console.print(Panel.fit(user_input, title=\"[bold blue]Input Prompt\", border_style=\"blue\"))\n",
    "console.print(Panel.fit(output_text, title=\"[bold magenta]Model Output\", border_style=\"magenta\"))"
   ]
  }
 ],
 "metadata": {
  "kernelspec": {
   "display_name": "Python 3 (ipykernel)",
   "language": "python",
   "name": "python3"
  },
  "language_info": {
   "codemirror_mode": {
    "name": "ipython",
    "version": 3
   },
   "file_extension": ".py",
   "mimetype": "text/x-python",
   "name": "python",
   "nbconvert_exporter": "python",
   "pygments_lexer": "ipython3",
   "version": "3.13.1"
  }
 },
 "nbformat": 4,
 "nbformat_minor": 5
}
